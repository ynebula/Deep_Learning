{
 "cells": [
  {
   "cell_type": "code",
   "execution_count": 56,
   "metadata": {},
   "outputs": [],
   "source": [
    "import random\n",
    "import torch\n",
    "import torch.nn as nn\n",
    "from datetime import datetime, timedelta"
   ]
  },
  {
   "cell_type": "markdown",
   "metadata": {},
   "source": []
  },
  {
   "cell_type": "code",
   "execution_count": 76,
   "metadata": {},
   "outputs": [],
   "source": [
    "batch_size = 1\n",
    "n_epochs = 1000\n",
    "n_iter = 10000"
   ]
  },
  {
   "cell_type": "code",
   "execution_count": 48,
   "metadata": {},
   "outputs": [],
   "source": [
    "class MyModel(nn.Module):\n",
    "    def __init__(self, input_size, output_size):\n",
    "        super(MyModel, self).__init__()\n",
    "        self.linear = nn.Linear(input_size, output_size)\n",
    "        \n",
    "    def forward(self, x):\n",
    "        y = self.linear(x)\n",
    "        return y"
   ]
  },
  {
   "cell_type": "code",
   "execution_count": 49,
   "metadata": {},
   "outputs": [],
   "source": [
    "def ground_truth(x):\n",
    "    return 3*x[:, 0] + x[:, 1] - 2*x[:, 2]"
   ]
  },
  {
   "cell_type": "code",
   "execution_count": 50,
   "metadata": {},
   "outputs": [],
   "source": [
    "def train(model, x, y, optim):\n",
    "    # initialize gradients in all parameters in module.\n",
    "    optim.zero_grad()\n",
    "    \n",
    "    # feed-forward\n",
    "    y_hat = model(x)\n",
    "    # get error between answer and inferenced.\n",
    "    loss = ((y - y_hat)**2).sum() / x.size(0)\n",
    "    \n",
    "    # back-propagation\n",
    "    loss.backward()\n",
    "    \n",
    "    # one-step of gradient descent\n",
    "    optim.step()\n",
    "    \n",
    "    return loss.data"
   ]
  },
  {
   "cell_type": "code",
   "execution_count": 63,
   "metadata": {},
   "outputs": [],
   "source": [
    "model = MyModel(3, 1)\n",
    "# GPU 학습\n",
    "model.cuda()\n",
    "optim = torch.optim.SGD(model.parameters(), lr=0.0001, momentum=0.1)"
   ]
  },
  {
   "cell_type": "markdown",
   "metadata": {},
   "source": [
    "x = torch.rand(batch_size, 3)\n",
    "x"
   ]
  },
  {
   "cell_type": "code",
   "execution_count": 62,
   "metadata": {},
   "outputs": [
    {
     "name": "stdout",
     "output_type": "stream",
     "text": [
      "tensor(1.3941) tensor(0.9000) tensor(0.9365)\n",
      "tensor(0.8638) tensor(0.9000) tensor(0.9835)\n",
      "tensor(0.5885) tensor(0.9000) tensor(1.0118)\n",
      "tensor(0.4124) tensor(0.9000) tensor(1.0140)\n",
      "tensor(0.2936) tensor(0.9000) tensor(1.0268)\n",
      "tensor(0.2082) tensor(0.9000) tensor(1.0334)\n",
      "tensor(0.1475) tensor(0.9000) tensor(1.0284)\n",
      "tensor(0.1047) tensor(0.9000) tensor(1.0238)\n",
      "tensor(0.0740) tensor(0.9000) tensor(1.0218)\n",
      "tensor(0.0523) tensor(0.9000) tensor(1.0191)\n",
      "tensor(0.0389) tensor(0.9000) tensor(1.0128)\n",
      "tensor(0.0273) tensor(0.9000) tensor(1.0079)\n",
      "tensor(0.0199) tensor(0.9000) tensor(0.9994)\n",
      "tensor(0.0146) tensor(0.9000) tensor(0.9950)\n",
      "tensor(0.0111) tensor(0.9000) tensor(0.9869)\n",
      "tensor(0.0081) tensor(0.9000) tensor(0.9812)\n",
      "tensor(0.0060) tensor(0.9000) tensor(0.9768)\n",
      "tensor(0.0046) tensor(0.9000) tensor(0.9700)\n",
      "tensor(0.0035) tensor(0.9000) tensor(0.9638)\n",
      "tensor(0.0026) tensor(0.9000) tensor(0.9596)\n",
      "tensor(0.0020) tensor(0.9000) tensor(0.9545)\n",
      "tensor(0.0015) tensor(0.9000) tensor(0.9499)\n",
      "tensor(0.0012) tensor(0.9000) tensor(0.9453)\n",
      "tensor(0.0009) tensor(0.9000) tensor(0.9417)\n",
      "0:01:13.231963\n"
     ]
    }
   ],
   "source": [
    "start_time = datetime.now()\n",
    "\n",
    "for epoch in range(n_epochs):\n",
    "    avg_loss = 0\n",
    "    \n",
    "    model.train()\n",
    "    for i in range(n_iter):\n",
    "        x = torch.rand(batch_size, 3)\n",
    "        y = ground_truth(x.data)\n",
    "        \n",
    "        loss = train(model, x, y, optim)\n",
    "        \n",
    "        avg_loss += loss\n",
    "    avg_loss = avg_loss / n_iter\n",
    "        \n",
    "    # simple test sample to check the network.\n",
    "    x_valid = torch.FloatTensor([[.3, .2, .1]])\n",
    "    y_valid = ground_truth(x_valid.data)\n",
    "    \n",
    "    model.eval()\n",
    "    y_hat = model(x_valid)\n",
    "    \n",
    "    print(avg_loss, y_valid.data[0], y_hat.data[0, 0])\n",
    "    \n",
    "    if avg_loss < .001:\n",
    "        break;\n",
    "        \n",
    "end_time = datetime.now()\n",
    "\n",
    "print(end_time - start_time)"
   ]
  },
  {
   "cell_type": "markdown",
   "metadata": {},
   "source": [
    "## GPU로 학습"
   ]
  },
  {
   "cell_type": "code",
   "execution_count": 74,
   "metadata": {},
   "outputs": [
    {
     "name": "stdout",
     "output_type": "stream",
     "text": [
      "tensor([[0.3183, 0.1278, 0.1655],\n",
      "        [0.7874, 0.6380, 0.9990],\n",
      "        [0.8796, 0.5975, 0.6009],\n",
      "        [0.3585, 0.3965, 0.2459]], device='cuda:0')\n",
      "tensor([0.7515, 1.0022, 2.0345, 0.9800], device='cuda:0')\n",
      "tensor(1.1303, device='cuda:0')\n"
     ]
    }
   ],
   "source": [
    "x = torch.rand(4, 3).cuda()\n",
    "print(x)\n",
    "y = ground_truth(x.data)\n",
    "print(y)\n",
    "\n",
    "loss = train(model, x, y, optim)\n",
    "print(loss)"
   ]
  },
  {
   "cell_type": "code",
   "execution_count": 77,
   "metadata": {
    "scrolled": true
   },
   "outputs": [
    {
     "name": "stdout",
     "output_type": "stream",
     "text": [
      "tensor(0.5410, device='cuda:0') tensor(0.9000, device='cuda:0') tensor(1.0318, device='cuda:0')\n",
      "tensor(0.4031, device='cuda:0') tensor(0.9000, device='cuda:0') tensor(1.0374, device='cuda:0')\n",
      "tensor(0.2784, device='cuda:0') tensor(0.9000, device='cuda:0') tensor(1.0381, device='cuda:0')\n",
      "tensor(0.1904, device='cuda:0') tensor(0.9000, device='cuda:0') tensor(1.0356, device='cuda:0')\n",
      "tensor(0.1371, device='cuda:0') tensor(0.9000, device='cuda:0') tensor(1.0441, device='cuda:0')\n",
      "tensor(0.0975, device='cuda:0') tensor(0.9000, device='cuda:0') tensor(1.0299, device='cuda:0')\n",
      "tensor(0.0692, device='cuda:0') tensor(0.9000, device='cuda:0') tensor(1.0361, device='cuda:0')\n",
      "tensor(0.0512, device='cuda:0') tensor(0.9000, device='cuda:0') tensor(1.0280, device='cuda:0')\n",
      "tensor(0.0366, device='cuda:0') tensor(0.9000, device='cuda:0') tensor(1.0187, device='cuda:0')\n",
      "tensor(0.0272, device='cuda:0') tensor(0.9000, device='cuda:0') tensor(1.0133, device='cuda:0')\n",
      "tensor(0.0196, device='cuda:0') tensor(0.9000, device='cuda:0') tensor(1.0056, device='cuda:0')\n",
      "tensor(0.0143, device='cuda:0') tensor(0.9000, device='cuda:0') tensor(0.9986, device='cuda:0')\n",
      "tensor(0.0105, device='cuda:0') tensor(0.9000, device='cuda:0') tensor(0.9924, device='cuda:0')\n",
      "tensor(0.0079, device='cuda:0') tensor(0.9000, device='cuda:0') tensor(0.9858, device='cuda:0')\n",
      "tensor(0.0059, device='cuda:0') tensor(0.9000, device='cuda:0') tensor(0.9785, device='cuda:0')\n",
      "tensor(0.0044, device='cuda:0') tensor(0.9000, device='cuda:0') tensor(0.9722, device='cuda:0')\n",
      "tensor(0.0033, device='cuda:0') tensor(0.9000, device='cuda:0') tensor(0.9654, device='cuda:0')\n",
      "tensor(0.0025, device='cuda:0') tensor(0.9000, device='cuda:0') tensor(0.9613, device='cuda:0')\n",
      "tensor(0.0019, device='cuda:0') tensor(0.9000, device='cuda:0') tensor(0.9564, device='cuda:0')\n",
      "tensor(0.0016, device='cuda:0') tensor(0.9000, device='cuda:0') tensor(0.9508, device='cuda:0')\n",
      "tensor(0.0012, device='cuda:0') tensor(0.9000, device='cuda:0') tensor(0.9476, device='cuda:0')\n",
      "tensor(0.0009, device='cuda:0') tensor(0.9000, device='cuda:0') tensor(0.9429, device='cuda:0')\n",
      "0:04:11.401398\n"
     ]
    }
   ],
   "source": [
    "start_time = datetime.now()\n",
    "\n",
    "for epoch in range(n_epochs):\n",
    "    avg_loss = 0\n",
    "    model.train()\n",
    "    for i in range(n_iter):\n",
    "        x = torch.rand(batch_size, 3).cuda()\n",
    "        y = ground_truth(x.data)\n",
    "        \n",
    "        loss = train(model, x, y, optim)\n",
    "        \n",
    "        avg_loss += loss\n",
    "    avg_loss = avg_loss / n_iter / batch_size\n",
    "        \n",
    "    # simple test sample to check the network.\n",
    "    x_valid = torch.cuda.FloatTensor([[.3, .2, .1]])\n",
    "    y_valid = ground_truth(x_valid.data)\n",
    "    \n",
    "    model.eval()\n",
    "    y_hat = model(x_valid).cuda()\n",
    "    \n",
    "    print(avg_loss, y_valid.data[0], y_hat.data[0, 0])\n",
    "    \n",
    "    if avg_loss < .001:\n",
    "        break;\n",
    "        \n",
    "end_time = datetime.now()\n",
    "\n",
    "print(end_time - start_time)"
   ]
  },
  {
   "cell_type": "markdown",
   "metadata": {},
   "source": [
    "batch 1 : 0:04:28.399974"
   ]
  }
 ],
 "metadata": {
  "kernelspec": {
   "display_name": "Python 3",
   "language": "python",
   "name": "python3"
  },
  "language_info": {
   "codemirror_mode": {
    "name": "ipython",
    "version": 3
   },
   "file_extension": ".py",
   "mimetype": "text/x-python",
   "name": "python",
   "nbconvert_exporter": "python",
   "pygments_lexer": "ipython3",
   "version": "3.7.6"
  }
 },
 "nbformat": 4,
 "nbformat_minor": 4
}
